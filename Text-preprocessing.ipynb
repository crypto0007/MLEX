{
 "cells": [
  {
   "cell_type": "markdown",
   "metadata": {},
   "source": [
    "DATA PREPROCESSING"
   ]
  },
  {
   "cell_type": "code",
   "execution_count": 1,
   "metadata": {},
   "outputs": [],
   "source": [
    "#nltk.download()\n",
    "#nltk.download('punkt')\n",
    "#nltk.download('wordnet')\n",
    "#nltk.download('stopwords')\n",
    "import nltk\n"
   ]
  },
  {
   "cell_type": "code",
   "execution_count": 9,
   "metadata": {},
   "outputs": [
    {
     "data": {
      "text/plain": [
       "'This is the text processing for the demo purpose'"
      ]
     },
     "execution_count": 9,
     "metadata": {},
     "output_type": "execute_result"
    }
   ],
   "source": [
    "# raw data\n",
    "rawdoc = [ \"This is the text processing for the demo purpose\", \"HEre we are just learning basic of text preporcessing.\",\n",
    "       \"Text preprocessing is requried to convert the text into appropriate form which can be further process\" ,\n",
    "        \"how it can be achieve ... ???\" , \" msg on the number 1234567\"]\n",
    "rawdoc[0]\n",
    "#len(rawdoc)"
   ]
  },
  {
   "cell_type": "markdown",
   "metadata": {},
   "source": [
    "Step 1 : Lower the sentences"
   ]
  },
  {
   "cell_type": "code",
   "execution_count": 10,
   "metadata": {},
   "outputs": [
    {
     "data": {
      "text/plain": [
       "['this is the text processing for the demo purpose',\n",
       " 'here we are just learning basic of text preporcessing.',\n",
       " 'text preprocessing is requried to convert the text into appropriate form which can be further process',\n",
       " 'how it can be achieve ... ???',\n",
       " ' msg on the number 1234567']"
      ]
     },
     "execution_count": 10,
     "metadata": {},
     "output_type": "execute_result"
    }
   ],
   "source": [
    "for i in range(len(rawdoc)):\n",
    "    rawdoc[i]=rawdoc[i].lower()\n",
    "    \n",
    "rawdoc\n"
   ]
  },
  {
   "cell_type": "markdown",
   "metadata": {},
   "source": [
    "Step 2 : Remove punctuation mark and digits"
   ]
  },
  {
   "cell_type": "code",
   "execution_count": 14,
   "metadata": {},
   "outputs": [
    {
     "data": {
      "text/plain": [
       "['this is the text processing for the demo purpose',\n",
       " 'here we are just learning basic of text preporcessing.',\n",
       " 'text preprocessing is requried to convert the text into appropriate form which can be further process',\n",
       " 'how it can be achieve ... ???',\n",
       " ' msg on the number 1234567']"
      ]
     },
     "execution_count": 14,
     "metadata": {},
     "output_type": "execute_result"
    }
   ],
   "source": [
    "textdata=rawdoc.copy()   # make a copy of original data\n",
    "textdata\n"
   ]
  },
  {
   "cell_type": "code",
   "execution_count": 16,
   "metadata": {},
   "outputs": [
    {
     "data": {
      "text/plain": [
       "['this is the text processing for the demo purpose',\n",
       " 'here we are just learning basic of text preporcessing',\n",
       " 'text preprocessing is requried to convert the text into appropriate form which can be further process',\n",
       " 'how it can be achieve',\n",
       " 'msg on the number']"
      ]
     },
     "execution_count": 16,
     "metadata": {},
     "output_type": "execute_result"
    }
   ],
   "source": [
    "# First method\n",
    "import re  # regular expression\n",
    "\n",
    "for i in range(len(textdata)):\n",
    "    textdata[i] = textdata[i].strip()   # removing leading and trailing space\n",
    "    textdata[i] = re.sub('[ +]',' ',textdata[i])  # remove extra spaces between words\n",
    "    textdata[i] = re.sub('[^a-zA-Z ]','',textdata[i])\n",
    "    \n",
    "textdata\n",
    "     "
   ]
  },
  {
   "cell_type": "markdown",
   "metadata": {},
   "source": [
    "Step 3 Tokanize the data"
   ]
  },
  {
   "cell_type": "code",
   "execution_count": 9,
   "metadata": {},
   "outputs": [
    {
     "data": {
      "text/plain": [
       "['this is the text processing for the demo purpose',\n",
       " 'here we are just learning basic of text preporcessing.',\n",
       " 'text preprocessing is requried to convert the text into appropriate form which can be further process',\n",
       " 'how it can be achieve ... ???',\n",
       " ' msg on the number 1234567']"
      ]
     },
     "execution_count": 9,
     "metadata": {},
     "output_type": "execute_result"
    }
   ],
   "source": [
    "rawdoc"
   ]
  },
  {
   "cell_type": "code",
   "execution_count": 17,
   "metadata": {},
   "outputs": [
    {
     "data": {
      "text/plain": [
       "[['this', 'is', 'the', 'text', 'processing', 'for', 'the', 'demo', 'purpose'],\n",
       " ['here',\n",
       "  'we',\n",
       "  'are',\n",
       "  'just',\n",
       "  'learning',\n",
       "  'basic',\n",
       "  'of',\n",
       "  'text',\n",
       "  'preporcessing'],\n",
       " ['text',\n",
       "  'preprocessing',\n",
       "  'is',\n",
       "  'requried',\n",
       "  'to',\n",
       "  'convert',\n",
       "  'the',\n",
       "  'text',\n",
       "  'into',\n",
       "  'appropriate',\n",
       "  'form',\n",
       "  'which',\n",
       "  'can',\n",
       "  'be',\n",
       "  'further',\n",
       "  'process'],\n",
       " ['how', 'it', 'can', 'be', 'achieve'],\n",
       " ['msg', 'on', 'the', 'number']]"
      ]
     },
     "execution_count": 17,
     "metadata": {},
     "output_type": "execute_result"
    }
   ],
   "source": [
    "from nltk.tokenize import word_tokenize\n",
    " # method 1\n",
    "tokenizedata=[]\n",
    "tokenizedata = [word_tokenize(sen) for sen in textdata]\n",
    "tokenizedata\n",
    "\n",
    "\n",
    "                              \n",
    "      \n",
    "                                "
   ]
  },
  {
   "cell_type": "code",
   "execution_count": 12,
   "metadata": {},
   "outputs": [
    {
     "data": {
      "text/plain": [
       "[['this', 'is', 'the', 'text', 'processing', 'for', 'the', 'demo', 'purpose'],\n",
       " ['here',\n",
       "  'we',\n",
       "  'are',\n",
       "  'just',\n",
       "  'learning',\n",
       "  'basic',\n",
       "  'of',\n",
       "  'text',\n",
       "  'preporcessing'],\n",
       " ['text',\n",
       "  'preprocessing',\n",
       "  'is',\n",
       "  'requried',\n",
       "  'to',\n",
       "  'convert',\n",
       "  'the',\n",
       "  'text',\n",
       "  'into',\n",
       "  'appropriate',\n",
       "  'form',\n",
       "  'which',\n",
       "  'can',\n",
       "  'be',\n",
       "  'further',\n",
       "  'process'],\n",
       " ['how', 'it', 'can', 'be', 'achieve'],\n",
       " ['msg', 'on', 'the', 'number']]"
      ]
     },
     "execution_count": 12,
     "metadata": {},
     "output_type": "execute_result"
    }
   ],
   "source": [
    "#method 2 \n",
    "tokenizedata=[]\n",
    "for i in range(len(textdata)):\n",
    "    words = textdata[i].split(' ')\n",
    "    tokenizedata.append(words)\n",
    "tokenizedata\n",
    "\n"
   ]
  },
  {
   "cell_type": "markdown",
   "metadata": {},
   "source": [
    "Step 4 : Remove Stop Words from tokenizedata\n",
    "\n"
   ]
  },
  {
   "cell_type": "code",
   "execution_count": 19,
   "metadata": {},
   "outputs": [
    {
     "name": "stdout",
     "output_type": "stream",
     "text": [
      "['i', 'me', 'my', 'myself', 'we', 'our', 'ours', 'ourselves', 'you', \"you're\", \"you've\", \"you'll\", \"you'd\", 'your', 'yours', 'yourself', 'yourselves', 'he', 'him', 'his', 'himself', 'she', \"she's\", 'her', 'hers', 'herself', 'it', \"it's\", 'its', 'itself', 'they', 'them', 'their', 'theirs', 'themselves', 'what', 'which', 'who', 'whom', 'this', 'that', \"that'll\", 'these', 'those', 'am', 'is', 'are', 'was', 'were', 'be', 'been', 'being', 'have', 'has', 'had', 'having', 'do', 'does', 'did', 'doing', 'a', 'an', 'the', 'and', 'but', 'if', 'or', 'because', 'as', 'until', 'while', 'of', 'at', 'by', 'for', 'with', 'about', 'against', 'between', 'into', 'through', 'during', 'before', 'after', 'above', 'below', 'to', 'from', 'up', 'down', 'in', 'out', 'on', 'off', 'over', 'under', 'again', 'further', 'then', 'once', 'here', 'there', 'when', 'where', 'why', 'how', 'all', 'any', 'both', 'each', 'few', 'more', 'most', 'other', 'some', 'such', 'no', 'nor', 'not', 'only', 'own', 'same', 'so', 'than', 'too', 'very', 's', 't', 'can', 'will', 'just', 'don', \"don't\", 'should', \"should've\", 'now', 'd', 'll', 'm', 'o', 're', 've', 'y', 'ain', 'aren', \"aren't\", 'couldn', \"couldn't\", 'didn', \"didn't\", 'doesn', \"doesn't\", 'hadn', \"hadn't\", 'hasn', \"hasn't\", 'haven', \"haven't\", 'isn', \"isn't\", 'ma', 'mightn', \"mightn't\", 'mustn', \"mustn't\", 'needn', \"needn't\", 'shan', \"shan't\", 'shouldn', \"shouldn't\", 'wasn', \"wasn't\", 'weren', \"weren't\", 'won', \"won't\", 'wouldn', \"wouldn't\"]\n"
     ]
    },
    {
     "data": {
      "text/plain": [
       "['text',\n",
       " 'processing',\n",
       " 'demo',\n",
       " 'purpose',\n",
       " 'learning',\n",
       " 'basic',\n",
       " 'text',\n",
       " 'preporcessing',\n",
       " 'text',\n",
       " 'preprocessing',\n",
       " 'requried',\n",
       " 'convert',\n",
       " 'text',\n",
       " 'appropriate',\n",
       " 'form',\n",
       " 'process',\n",
       " 'achieve',\n",
       " 'msg',\n",
       " 'number']"
      ]
     },
     "execution_count": 19,
     "metadata": {},
     "output_type": "execute_result"
    }
   ],
   "source": [
    "from nltk.corpus import stopwords\n",
    "print(stopwords.words('english'))\n",
    "\n",
    "tokenize_without_stopwords=[]\n",
    "\n",
    "\n",
    "for sen in tokenizedata:\n",
    "    for word in sen:\n",
    "        if not word  in stopwords.words('english'):\n",
    "               tokenize_without_stopwords.append(word)\n",
    "\n",
    "tokenize_without_stopwords        "
   ]
  },
  {
   "cell_type": "markdown",
   "metadata": {},
   "source": [
    "stemming and Lemmatize the words"
   ]
  },
  {
   "cell_type": "code",
   "execution_count": 20,
   "metadata": {},
   "outputs": [
    {
     "name": "stdout",
     "output_type": "stream",
     "text": [
      "['text', 'process', 'demo', 'purpos', 'learn', 'basic', 'text', 'preporcess', 'text', 'preprocess', 'requri', 'convert', 'text', 'appropri', 'form', 'process', 'achiev', 'msg', 'number']\n",
      "*****\n",
      "['text', 'process', 'demo', 'purpose', 'learn', 'basic', 'text', 'preporcessing', 'text', 'preprocessing', 'requried', 'convert', 'text', 'appropriate', 'form', 'process', 'achieve', 'msg', 'number']\n",
      "child\n"
     ]
    }
   ],
   "source": [
    "from nltk.stem.porter import PorterStemmer\n",
    "from nltk.stem import WordNetLemmatizer\n",
    "ps = PorterStemmer()\n",
    "wordnet = WordNetLemmatizer()\n",
    "# stemming of the words\n",
    "\n",
    "stemmerlist=[ ps.stem(word) for word in tokenize_without_stopwords]\n",
    "# lemmatization of the word\n",
    "\n",
    "lemetizelist= [wordnet.lemmatize(word,pos='v') for word in tokenize_without_stopwords ]\n",
    "\n",
    "print(stemmerlist)\n",
    "print(\"*****\")\n",
    "print(lemetizelist)\n",
    "print(wordnet.lemmatize(\"children\"))"
   ]
  },
  {
   "cell_type": "markdown",
   "metadata": {},
   "source": [
    "Normalization of Text"
   ]
  },
  {
   "cell_type": "code",
   "execution_count": 6,
   "metadata": {},
   "outputs": [
    {
     "name": "stdout",
     "output_type": "stream",
     "text": [
      "[nltk_data] Downloading package brown to C:\\Users\\Purvi\n",
      "[nltk_data]     Jardos\\AppData\\Roaming\\nltk_data...\n",
      "[nltk_data]   Package brown is already up-to-date!\n",
      "[nltk_data] Downloading package names to C:\\Users\\Purvi\n",
      "[nltk_data]     Jardos\\AppData\\Roaming\\nltk_data...\n",
      "[nltk_data]   Package names is already up-to-date!\n",
      "[nltk_data] Downloading package wordnet to C:\\Users\\Purvi\n",
      "[nltk_data]     Jardos\\AppData\\Roaming\\nltk_data...\n",
      "[nltk_data]   Package wordnet is already up-to-date!\n",
      "[nltk_data] Downloading package averaged_perceptron_tagger to\n",
      "[nltk_data]     C:\\Users\\Purvi Jardos\\AppData\\Roaming\\nltk_data...\n",
      "[nltk_data]   Package averaged_perceptron_tagger is already up-to-\n",
      "[nltk_data]       date!\n",
      "[nltk_data] Downloading package universal_tagset to C:\\Users\\Purvi\n",
      "[nltk_data]     Jardos\\AppData\\Roaming\\nltk_data...\n",
      "[nltk_data]   Package universal_tagset is already up-to-date!\n"
     ]
    }
   ],
   "source": [
    "for dependency in (\"brown\", \"names\", \"wordnet\", \"averaged_perceptron_tagger\", \"universal_tagset\"):\n",
    "    nltk.download(dependency)"
   ]
  },
  {
   "cell_type": "code",
   "execution_count": 26,
   "metadata": {},
   "outputs": [
    {
     "name": "stdout",
     "output_type": "stream",
     "text": [
      "['thanks', 'we are', 'will', 'have', 'a', 'party', 'and', 'we are', 'will', 'enjoy', 'it', 'ur', 'can', 'also', 'join', 'while', 'doing', 'work from home', 'twenty five']\n"
     ]
    }
   ],
   "source": [
    "import nltk\n",
    "from normalise import normalise   \n",
    "from nltk.tokenize import word_tokenize\n",
    "text = \"thnks v will hve a party and v will njoy it  ur can also join while doing wfh  25\"\n",
    "\n",
    "cust_abr={ \"thnk\" : \"Thank\" ,\n",
    "           \"v\" : \"we are\", \n",
    "           \"ur\" : \"you\",\n",
    "           \"hve\": \"have\",\n",
    "            \"njoy\" : \"enjoy\",\n",
    "             \"wfh\" : \"work from home\"}\n",
    "\n",
    "normalise_token = normalise(word_tokenize(text), user_abbrevs=cust_abr , verbose=False)\n",
    "print(normalise_token)"
   ]
  }
 ],
 "metadata": {
  "kernelspec": {
   "display_name": "Python 3",
   "language": "python",
   "name": "python3"
  },
  "language_info": {
   "codemirror_mode": {
    "name": "ipython",
    "version": 3
   },
   "file_extension": ".py",
   "mimetype": "text/x-python",
   "name": "python",
   "nbconvert_exporter": "python",
   "pygments_lexer": "ipython3",
   "version": "3.6.5"
  }
 },
 "nbformat": 4,
 "nbformat_minor": 2
}
